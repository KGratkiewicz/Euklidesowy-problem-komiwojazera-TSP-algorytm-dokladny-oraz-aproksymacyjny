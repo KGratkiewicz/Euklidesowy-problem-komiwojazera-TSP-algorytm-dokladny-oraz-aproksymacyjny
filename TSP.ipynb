{
  "nbformat": 4,
  "nbformat_minor": 0,
  "metadata": {
    "colab": {
      "name": "TSP.ipynb",
      "provenance": [],
      "collapsed_sections": []
    },
    "kernelspec": {
      "name": "python3",
      "display_name": "Python 3"
    },
    "language_info": {
      "name": "python"
    }
  },
  "cells": [
    {
      "cell_type": "code",
      "source": [
        "import numpy as np\n",
        "import matplotlib.pyplot as plt\n",
        "import math\n",
        "import copy\n",
        "import itertools as it\n",
        "from random import randint\n",
        "import time"
      ],
      "metadata": {
        "id": "lFtMvpKbeUgy"
      },
      "execution_count": null,
      "outputs": []
    },
    {
      "cell_type": "code",
      "source": [
        "def dist(node1, node2):\n",
        "  xDifSq = node1.point[0]-node2.point[0]\n",
        "  yDifSq = node1.point[1]-node2.point[1]\n",
        "  xDifSq = math.pow(xDifSq,2)\n",
        "  yDifSq = math.pow(yDifSq,2)\n",
        "  return math.sqrt(xDifSq + yDifSq)\n",
        "\n",
        "def engine(num):\n",
        "  if num == 1:\n",
        "    return 1\n",
        "  return num * engine(num-1)"
      ],
      "metadata": {
        "id": "P4SeKobCeS_p"
      },
      "execution_count": null,
      "outputs": []
    },
    {
      "cell_type": "code",
      "source": [
        "class Node:\n",
        "  def __init__(self, x, y):\n",
        "      self.point = [x,y]"
      ],
      "metadata": {
        "id": "hc3CkkmgeKyu"
      },
      "execution_count": null,
      "outputs": []
    },
    {
      "cell_type": "code",
      "execution_count": null,
      "metadata": {
        "id": "iIEBm-ZtdgFe"
      },
      "outputs": [],
      "source": [
        "class Graph:\n",
        "  def __init__(self, array):\n",
        "    self.nodes = array\n",
        "\n",
        "  def addNodes(self, node):\n",
        "    self.nodes = np.append(self.nodes, node)\n",
        "\n",
        "  def removeNode(self, node):\n",
        "    self.nodes = np.delete(self.nodes, node)\n",
        "\n",
        "  def plotGraph(self, color='orange'):\n",
        "      xCoord = []\n",
        "      yCoord = []\n",
        "      for node in self.nodes:\n",
        "        xCoord.append(node.point[0])\n",
        "        yCoord.append(node.point[1]) \n",
        "      plt.grid(True)\n",
        "      plt.scatter(xCoord,yCoord,color=color)"
      ]
    },
    {
      "cell_type": "code",
      "source": [
        "class Hamilton(Graph):\n",
        "  def __init__(self, graph):\n",
        "    self.nodes = graph.nodes\n",
        "    self.addNodes(graph.nodes[0])\n",
        "    self.distance = 0;\n",
        "    numElements = len(self.nodes)\n",
        "    for i in range(1,numElements):\n",
        "      self.distance += dist(self.nodes[i], self.nodes[(i-1)])\n",
        "\n",
        "  def plotHamilton(self, col = 'blue'):\n",
        "      xCoord = []\n",
        "      yCoord = []\n",
        "      for node in self.nodes:\n",
        "        xCoord.append(node.point[0])\n",
        "        yCoord.append(node.point[1]) \n",
        "      plt.grid(True)\n",
        "      plt.plot(xCoord,yCoord,color=col, linestyle='dashed')\n",
        "      self.plotGraph()"
      ],
      "metadata": {
        "id": "KFtzrdEeh1o3"
      },
      "execution_count": null,
      "outputs": []
    },
    {
      "cell_type": "code",
      "source": [
        "def brutForceTSP(graph):\n",
        "  permOfNodes = list(it.permutations(graph.nodes))\n",
        "  permOfNodes = np.array(permOfNodes)\n",
        "  minHamilton = Hamilton(Graph(permOfNodes[0]))\n",
        "  for i in permOfNodes:\n",
        "    if i[0] != graph.nodes[0]:\n",
        "      return minHamilton \n",
        "    actualHamilton = Hamilton(Graph(i))   \n",
        "    if actualHamilton.distance < minHamilton.distance:\n",
        "      minHamilton = actualHamilton\n",
        "  return minHamilton"
      ],
      "metadata": {
        "id": "NvEmGDBFrNZS"
      },
      "execution_count": null,
      "outputs": []
    },
    {
      "cell_type": "code",
      "source": [
        "def brutForceTSPplotAll(graph):\n",
        "  permOfNodes = list(it.permutations(graph.nodes))\n",
        "  permOfNodes = np.array(permOfNodes)\n",
        "  minHamilton = Hamilton(Graph(permOfNodes[0]))\n",
        "  minHamilton.plotHamilton('green')\n",
        "  plt.show()\n",
        "  for i in permOfNodes:\n",
        "    if i[0] != graph.nodes[0]:\n",
        "      return minHamilton \n",
        "    actualHamilton = Hamilton(Graph(i)) \n",
        "    if actualHamilton.distance <= minHamilton.distance:\n",
        "      minHamilton = actualHamilton\n",
        "      plt.clf()\n",
        "      minHamilton.plotHamilton('green')\n",
        "      plt.show() \n",
        "    else:\n",
        "      plt.clf()\n",
        "      actualHamilton.plotHamilton('red')\n",
        "      plt.show() \n",
        "  return minHamilton"
      ],
      "metadata": {
        "id": "WxmC6OHtlluL"
      },
      "execution_count": null,
      "outputs": []
    },
    {
      "cell_type": "code",
      "source": [
        "def brutForceTSPplotNewBest(graph):\n",
        "  permOfNodes = list(it.permutations(graph.nodes))\n",
        "  permOfNodes = np.array(permOfNodes)\n",
        "  minHamilton = Hamilton(Graph(permOfNodes[0]))\n",
        "  minHamilton.plotHamilton('green')\n",
        "  plt.show()\n",
        "  for i in permOfNodes:\n",
        "    if i[0] != graph.nodes[0]:\n",
        "      return minHamilton \n",
        "    actualHamilton = Hamilton(Graph(i)) \n",
        "    if actualHamilton.distance < minHamilton.distance:\n",
        "      minHamilton = actualHamilton\n",
        "      plt.clf()\n",
        "      minHamilton.plotHamilton('green')\n",
        "      plt.show() \n",
        "  return minHamilton"
      ],
      "metadata": {
        "id": "l8mHckaLlm0R"
      },
      "execution_count": null,
      "outputs": []
    },
    {
      "cell_type": "code",
      "source": [
        "def generateGraph(numOfNodes = 5, minX = 0, maxX = 100, minY = 0, maxY = 100):\n",
        "  g = Graph(np.empty(0))\n",
        "  for i in range(0, numOfNodes):\n",
        "    x = randint(minX, maxX)\n",
        "    y = randint(minY, maxY)\n",
        "    g.addNodes(Node(x,y))\n",
        "  return g "
      ],
      "metadata": {
        "id": "PtPIBS_OgpID"
      },
      "execution_count": null,
      "outputs": []
    },
    {
      "cell_type": "code",
      "source": [
        "def timeBrutal(sample = 5, start=2, stop=5):\n",
        "  solutionX = []\n",
        "  solutionY = []\n",
        "  for i in range(start, stop+1):\n",
        "    summary = 0\n",
        "    for k in range(0,sample):\n",
        "      t0 = time.clock()\n",
        "      g = generateGraph(i)\n",
        "      h = brutForceTSP(g)\n",
        "      t1 = time.clock()\n",
        "      summary = summary + (t1-t0)\n",
        "    avg = summary/sample\n",
        "    solutionX.append(i)\n",
        "    solutionY.append(avg)\n",
        "  return [solutionX,solutionY]"
      ],
      "metadata": {
        "id": "puk1wSkjcxHR"
      },
      "execution_count": null,
      "outputs": []
    },
    {
      "cell_type": "code",
      "source": [
        "def timeApprox(sample = 5, start=2, stop=5):\n",
        "  solutionX = []\n",
        "  solutionY = []\n",
        "  for i in range(start, stop+1):\n",
        "    summary = 0\n",
        "    for k in range(0,sample):\n",
        "      t0 = time.clock()\n",
        "      g = generateGraph(i)\n",
        "      h = approxTSP(g)\n",
        "      t1 = time.clock()\n",
        "      summary = summary + (t1-t0)\n",
        "    avg = summary/sample\n",
        "    solutionX.append(i)\n",
        "    solutionY.append(avg)\n",
        "  return [solutionX,solutionY]"
      ],
      "metadata": {
        "id": "QzKfngqSZu_8"
      },
      "execution_count": null,
      "outputs": []
    },
    {
      "cell_type": "code",
      "source": [
        "class treeNode:\n",
        "  def __init__(self, root, key = 0):\n",
        "    self.key = key\n",
        "    self.root = root\n",
        "    self.childs = []\n",
        "\n",
        "  def addLink(self, node):\n",
        "    self.childs.append(node)\n",
        "  \n",
        "  def plotTree(self, color=\"blue\", it=True):\n",
        "    for i in self.childs:\n",
        "      plt.plot([self.root.point[0],i.root.point[0]],[self.root.point[1],i.root.point[1]], color=color)\n",
        "      plt.scatter([self.root.point[0],i.root.point[0]],[self.root.point[1],i.root.point[1]], color=color)\n",
        "      i.plotTree(color=color,it=False)\n",
        "    if it == True:\n",
        "      plt.scatter([self.root.point[0]],[self.root.point[1]], color=\"blue\")\n",
        "      plt.show()\n",
        "      \n",
        "  def preorder(self):\n",
        "    array = np.array(self.root)\n",
        "    for i in self.childs:\n",
        "      array = np.append(array,i.preorder())\n",
        "    return array"
      ],
      "metadata": {
        "id": "BA6Gur74hAgA"
      },
      "execution_count": null,
      "outputs": []
    },
    {
      "cell_type": "code",
      "source": [
        "def adjacencyMatrix(graph = generateGraph(5)):\n",
        "  matrix = []\n",
        "  for i in graph.nodes:\n",
        "    adjNode = []\n",
        "    for j in graph.nodes:\n",
        "      adjNode.append(dist(i,j))\n",
        "    matrix.append(adjNode)\n",
        "  return matrix    "
      ],
      "metadata": {
        "id": "WLXN3cG-cpLk"
      },
      "execution_count": null,
      "outputs": []
    },
    {
      "cell_type": "code",
      "source": [
        "def mstPrim(graph = generateGraph(5)):\n",
        "  INF = 9999999\n",
        "  N = len(graph.nodes)\n",
        "\n",
        "  G = adjacencyMatrix(graph)\n",
        "\n",
        "  selected_node = []\n",
        "  nodes = []\n",
        "  for i in range(0,N):\n",
        "    selected_node.append(0)\n",
        "    nodes.append(treeNode(graph.nodes[i],i))\n",
        "\n",
        "  no_edge = 0\n",
        "  selected_node[0] = True\n",
        "\n",
        "  while (no_edge < N - 1):\n",
        "      \n",
        "      minimum = INF\n",
        "      a = 0\n",
        "      b = 0\n",
        "      for m in range(N):\n",
        "          if selected_node[m]:\n",
        "              for n in range(N):\n",
        "                  if ((not selected_node[n]) and G[m][n]):  \n",
        "                      if minimum > G[m][n]:\n",
        "                          minimum = G[m][n]\n",
        "                          a = m\n",
        "                          b = n\n",
        "      nodes[a].addLink(nodes[b])\n",
        "      selected_node[b] = True\n",
        "      no_edge += 1\n",
        "\n",
        "  return nodes[0]"
      ],
      "metadata": {
        "id": "NCphxjunfclH"
      },
      "execution_count": null,
      "outputs": []
    },
    {
      "cell_type": "code",
      "source": [
        "def approxTSP(graph = generateGraph(5)):\n",
        "  mstTree = mstPrim(graph)\n",
        "  nodes = mstTree.preorder()\n",
        "  hamilton = Hamilton(Graph(nodes))\n",
        "  return hamilton"
      ],
      "metadata": {
        "id": "x4bjoBGyVqFd"
      },
      "execution_count": null,
      "outputs": []
    },
    {
      "cell_type": "code",
      "source": [
        "timBrutal = timeBrutal(stop = 7, sample=5)\n",
        "timApprox = timeApprox(stop = 7, sample=5)\n",
        "plt.plot(timBrutal[0], timBrutal[1], color=\"red\")\n",
        "plt.plot(timApprox[0], timApprox[1], color=\"green\")"
      ],
      "metadata": {
        "colab": {
          "base_uri": "https://localhost:8080/",
          "height": 372
        },
        "id": "3x_xXHiodzQ9",
        "outputId": "e917a746-ee5a-4567-c2d4-8f7e5b0eaa58"
      },
      "execution_count": null,
      "outputs": [
        {
          "output_type": "stream",
          "name": "stderr",
          "text": [
            "/usr/local/lib/python3.7/dist-packages/ipykernel_launcher.py:7: DeprecationWarning: time.clock has been deprecated in Python 3.3 and will be removed from Python 3.8: use time.perf_counter or time.process_time instead\n",
            "  import sys\n",
            "/usr/local/lib/python3.7/dist-packages/ipykernel_launcher.py:10: DeprecationWarning: time.clock has been deprecated in Python 3.3 and will be removed from Python 3.8: use time.perf_counter or time.process_time instead\n",
            "  # Remove the CWD from sys.path while we load stuff.\n"
          ]
        },
        {
          "output_type": "execute_result",
          "data": {
            "text/plain": [
              "[<matplotlib.lines.Line2D at 0x7fa1d00aea10>]"
            ]
          },
          "metadata": {},
          "execution_count": 16
        },
        {
          "output_type": "display_data",
          "data": {
            "text/plain": [
              "<Figure size 432x288 with 1 Axes>"
            ],
            "image/png": "[encoded data removed]"
          },
          "metadata": {
            "needs_background": "light"
          }
        }
      ]
    },
    {
      "cell_type": "code",
      "source": [
        "g = generateGraph(8)  "
      ],
      "metadata": {
        "id": "urhVP7w5ZYSF"
      },
      "execution_count": null,
      "outputs": []
    },
    {
      "cell_type": "code",
      "source": [
        "h2 = approxTSP(g)\n",
        "g.plotGraph(\"blue\")\n",
        "plt.show()\n",
        "root = mstPrim(g)\n",
        "root.plotTree(color=\"green\")\n",
        "h2.plotHamilton('green')\n",
        "print(h2.distance)"
      ],
      "metadata": {
        "colab": {
          "base_uri": "https://localhost:8080/",
          "height": 781
        },
        "id": "72UunO6xZRDr",
        "outputId": "eaa4c80d-2e4b-4f3d-df87-233e91542f8a"
      },
      "execution_count": null,
      "outputs": [
        {
          "output_type": "display_data",
          "data": {
            "text/plain": [
              "<Figure size 432x288 with 1 Axes>"
            ],
            "image/png": "[encoded data removed]"
          },
          "metadata": {
            "needs_background": "light"
          }
        },
        {
          "output_type": "display_data",
          "data": {
            "text/plain": [
              "<Figure size 432x288 with 1 Axes>"
            ],
            "image/png": "[encoded data removed]"
          },
          "metadata": {
            "needs_background": "light"
          }
        },
        {
          "output_type": "stream",
          "name": "stdout",
          "text": [
            "316.511550467275\n"
          ]
        },
        {
          "output_type": "display_data",
          "data": {
            "text/plain": [
              "<Figure size 432x288 with 1 Axes>"
            ],
            "image/png": "[encoded data removed]"
          },
          "metadata": {
            "needs_background": "light"
          }
        }
      ]
    },
    {
      "cell_type": "code",
      "source": [
        "h1 = brutForceTSP(g)\n",
        "h1.plotHamilton('blue')\n",
        "print(h1.distance)"
      ],
      "metadata": {
        "colab": {
          "base_uri": "https://localhost:8080/",
          "height": 283
        },
        "id": "n37iypIooXc0",
        "outputId": "48f7f770-9cf9-43fb-af7e-b0a046386daa"
      },
      "execution_count": null,
      "outputs": [
        {
          "output_type": "stream",
          "name": "stdout",
          "text": [
            "308.77028508765574\n"
          ]
        },
        {
          "output_type": "display_data",
          "data": {
            "text/plain": [
              "<Figure size 432x288 with 1 Axes>"
            ],
            "image/png": "[encoded data removed]"
          },
          "metadata": {
            "needs_background": "light"
          }
        }
      ]
    },
    {
      "cell_type": "code",
      "source": [
        "max = 0.0\n",
        "for i in range(0,100):\n",
        "  g = generateGraph(5)\n",
        "  h1 = brutForceTSP(g)\n",
        "  h2 = approxTSP(g)\n",
        "  if max < (h2.distance/h1.distance):\n",
        "    max = (h2.distance/h1.distance)\n",
        "print(max)"
      ],
      "metadata": {
        "colab": {
          "base_uri": "https://localhost:8080/"
        },
        "id": "PUGFrhCjXX42",
        "outputId": "bb343d0a-506f-4201-af4d-4c0f9c1ecf57"
      },
      "execution_count": null,
      "outputs": [
        {
          "output_type": "stream",
          "name": "stdout",
          "text": [
            "1.2210132966172005\n"
          ]
        }
      ]
    }
  ]
}